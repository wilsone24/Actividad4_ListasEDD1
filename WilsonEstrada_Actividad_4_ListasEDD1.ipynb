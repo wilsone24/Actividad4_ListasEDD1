{
  "cells": [
    {
      "cell_type": "markdown",
      "metadata": {
        "id": "vYQdJvR_1zCf"
      },
      "source": [
        "# **ACTIVIDAD 4**\n",
        "\n",
        "\n"
      ]
    },
    {
      "cell_type": "markdown",
      "metadata": {
        "id": "M1i9oY0-103n"
      },
      "source": [
        "## **Punto N. 1**\n",
        "\n",
        "Crear un programa que realice la multiplicación de dos matrices. Tener en cuenta las validaciones que deben hacerse para realizar la operación.​"
      ]
    },
    {
      "cell_type": "code",
      "execution_count": null,
      "metadata": {
        "id": "Q4JTanT35oNe",
        "outputId": "133d8084-b8ed-4e04-b5c9-ad83e064d7cb"
      },
      "outputs": [
        {
          "name": "stdout",
          "output_type": "stream",
          "text": [
            "[[50, 60], [86, 106], [134, 166]]\n"
          ]
        }
      ],
      "source": [
        "\n",
        "def multiplicacion_matrices(matriz1:list, matriz2:list) -> list:\n",
        "    \"\"\"Funcion para multiplicar 2 matrices \n",
        "\n",
        "    Args:\n",
        "        matriz1 (list): Pasar una matriz #1\n",
        "        matriz2 (list): Pasar una matriz #2\n",
        "\n",
        "    Returns:\n",
        "        list: Retorna una matriz de la multiplicacion de los parametros cuando se dan las condiciones.\n",
        "    \"\"\"\n",
        "    if len(matriz1[0]) == len(matriz2): # Verifica si el numero de columnas de la matriz 1 \n",
        "        matriz_r = []                   # es igual al numero de filas de la matriz 2\n",
        "        for i in range(len(matriz1)):\n",
        "            matriz_r.append([])\n",
        "            for j in range(len(matriz2[0])):\n",
        "                matriz_r[i].append(0)\n",
        "                for k in range(len(matriz2)):\n",
        "                    matriz_r[i][j] += matriz1[i][k] * matriz2[k][j]\n",
        "        return matriz_r\n",
        "    else:\n",
        "        print(f'No se Cumplen las condiciones para multiplicar las matrices')\n",
        "        return None\n",
        "    \n",
        "# Prueba de la funcion\n",
        "\n",
        "matriz1 = [[1,2,3,4],\n",
        "           [4,5,5,6],\n",
        "           [7,8,8,9]]\n",
        "matriz2 = [[1,2],\n",
        "           [3,4],\n",
        "           [5,6],\n",
        "           [7,8]]\n",
        "# Resultado esperado [[50, 60], [86, 106], [134, 166]]\n",
        "matriz_resultado = multiplicacion_matrices(matriz1, matriz2)\n",
        "print(matriz_resultado)"
      ]
    },
    {
      "cell_type": "markdown",
      "metadata": {
        "id": "1XaGNUTi2G5K"
      },
      "source": [
        "## **Punto N.2**\n",
        "\n",
        "\n",
        "Almacenar en una lista los datos de 5 empleados, cada elemento de la lista es una sub lista con el nombre del empleado junto a sus últimos tres sueldos. El programa debe tener las siguientes funciones:​\n",
        "\n",
        "- Carga de los nombres de empleados y sus últimos tres sueldos.​\n",
        "\n",
        "- Imprimir el monto total cobrado por cada empleado.​"
      ]
    },
    {
      "cell_type": "code",
      "execution_count": null,
      "metadata": {
        "id": "7haNkfsF1zCp",
        "outputId": "73e2fd1b-d5a9-4e4e-8aac-9cf681f25bef"
      },
      "outputs": [
        {
          "name": "stdout",
          "output_type": "stream",
          "text": [
            "el monto total cobrado por el empleado Wilson fue de: $1450\n",
            "el monto total cobrado por el empleado Diana fue de: $1200\n",
            "el monto total cobrado por el empleado Isabel fue de: $750\n",
            "el monto total cobrado por el empleado Maria fue de: $1200\n",
            "el monto total cobrado por el empleado Ivan fue de: $1200\n",
            "[['Wilson', 500, 550, 400], ['Diana', 400, 400, 400], ['Isabel', 100, 300, 350], ['Maria', 600, 200, 400], ['Ivan', 400, 500, 300]]\n"
          ]
        }
      ],
      "source": [
        "\n",
        "def sueldo_empleados()-> None:\n",
        "    \"\"\"Funcion para calcular el sueldo promedio de los empleados\n",
        "\n",
        "    Returns:\n",
        "        None\n",
        "    \"\"\"\n",
        "    empleados = []\n",
        "\n",
        "    for i in range(5):\n",
        "        nombre = input(\"Ingrese el nombre del empleado: \")\n",
        "        sueldo1 = int(input(\"Ingrese el sueldo #1: \"))\n",
        "        sueldo2 = int(input(\"Ingrese el sueldo #2: \"))\n",
        "        sueldo3 = int(input(\"Ingrese el sueldo #3: \"))\n",
        "        empleados.append([nombre, sueldo1, sueldo2, sueldo3])\n",
        "        print(f'el monto total cobrado por el empleado {nombre} fue de: ${sueldo1+sueldo2+sueldo3}')\n",
        "    print(empleados)\n",
        "\n",
        "# Prueba de la funcion\n",
        "sueldo_empleados()\n"
      ]
    },
    {
      "cell_type": "markdown",
      "metadata": {
        "id": "n_MS0zho5slf"
      },
      "source": [
        "## **Punto N.3**\n",
        "\n",
        "Utilizar una multilista para cargar los votos obtenidos por tres candidatos a una elección de gobernador. Se debe almacenar el nombre del candidato, el municipio (5 municipios en total) y el total de votos. Realizar un programa que realice lo siguiente: ​\n",
        "\n",
        "- Solicitar los nombres de los candidatos, el municipio y la cantidad de votos obtenidos.​\n",
        "\n",
        "- Imprimir el total de votos de un candidato solicitado.​\n",
        "\n",
        "- Imprimir el total de votos en un municipio solicitado.​\n",
        "\n",
        "- Imprimir el candidato ganador."
      ]
    },
    {
      "cell_type": "code",
      "execution_count": null,
      "metadata": {
        "id": "eU2BOzOP1zCs",
        "outputId": "bf8c12ee-31fe-4aa1-df83-f76a03a3ce23"
      },
      "outputs": [
        {
          "name": "stdout",
          "output_type": "stream",
          "text": [
            "[['Wilson', 'Barranquilla', 45], ['Wilson', 'Soledad', 34], ['Wilson', 'Galapa', 27], ['Wilson', 'Cartagena', 76], ['Wilson', 'Valledupar', 12], ['Diana', 'Galapa', 12], ['Diana', 'Cartagena', 67], ['Diana', 'Barranquilla', 67], ['Diana', 'Soledad', 23], ['Diana', 'Valledupar', 3], ['Isabel', 'Cartagena', 12], ['Isabel', 'Galapa', 23], ['Isabel', 'Valledupar', 21], ['Isabel', 'Soledad', 8], ['Isabel', 'Barranquilla', 0]]\n",
            "[['Wilson', 194], ['Diana', 172], ['Isabel', 64]]\n",
            "El numero de votos del candidato Wilson es de: 194\n",
            "El numero de votos en el municipio Barranquilla es de: 112\n",
            "El candidato ganador es: Wilson, con un total de votos de: 194\n"
          ]
        }
      ],
      "source": [
        "def votos_candidatos ()-> None:\n",
        "    \"\"\"\n",
        "    Función para obtener los votos totales de cada candidato en cada municipio.\n",
        "\n",
        "    Returns:\n",
        "        list: Una lista de sublistas donde cada sublista contiene el nombre del candidato,\n",
        "        el municipio y el número de votos obtenidos en ese municipio.\n",
        "\n",
        "        list: una lista de sublistas donde cada sublista contiene el nombre del candidato \n",
        "        y el número de votos totales.\n",
        "    \"\"\"\n",
        "    votos_candidatos = []\n",
        "    resultados_indiv = []\n",
        "    for i in range(3):\n",
        "        nombre = input(\"Ingrese el nombre del candidato: \")\n",
        "        votos = 0\n",
        "        for j in range(5):\n",
        "            municipio = input(\"Ingrese municipio: \")\n",
        "            voto_municipio = int(input(f'Ingrese el total de votos en el municipio de {municipio}: '))\n",
        "            votos_candidatos.append([nombre, municipio, voto_municipio])\n",
        "            votos += voto_municipio\n",
        "        resultados_indiv.append(([nombre, votos]))\n",
        "    return votos_candidatos,resultados_indiv\n",
        "\n",
        "\n",
        "\n",
        "def votos_municipio (votos_candidatos: list)-> None:\n",
        "    \"\"\"\n",
        "    Función para obtener el número total de votos por municipio y para un candidato en particular.\n",
        "\n",
        "    Args:\n",
        "        votos_candidatos (list): Una lista de sublistas donde cada sublista contiene el nombre del candidato,\n",
        "        el municipio y el número de votos obtenidos en ese municipio.\n",
        "    \"\"\"\n",
        "    representante = input(f'Digite el nombre del candidato a consultar: ')\n",
        "    contadorcand = 0\n",
        "    for i in range(len(votos_candidatos)):\n",
        "        if representante == votos_candidatos[i][0]:\n",
        "            contadorcand += votos_candidatos[i][2]\n",
        "\n",
        "    print(f'El numero de votos del candidato {representante} es de: {contadorcand}')\n",
        "\n",
        "    municipio = input(f'Digite el municipio a consultar: ')\n",
        "    contadormun = 0\n",
        "    for i in range(len(votos_candidatos)):\n",
        "        if municipio == votos_candidatos[i][1]:\n",
        "            contadormun += votos_candidatos[i][2]\n",
        "    print(f'El numero de votos en el municipio {municipio} es de: {contadormun}')\n",
        "\n",
        "\n",
        "\n",
        "def encontrar_ganador(matriz:list)-> None:\n",
        "    \"\"\"\n",
        "    Encuentra el nombre del ganador y su puntaje correspondiente en una matriz.\n",
        "    \n",
        "    Args:\n",
        "    matriz (list): una lista de sublistas donde cada sublista contiene el nombre y la puntuación del jugador.\n",
        "\n",
        "    \"\"\"\n",
        "    ganador = max(matriz, key=lambda x: x[1])\n",
        "    print(f'El candidato ganador es: {ganador[0]}, con un total de votos de: {ganador[1]}')\n",
        "    \n",
        "# Prueba de la funcion\n",
        "total, candidato = votos_candidatos()\n",
        "print(total)\n",
        "print(candidato)\n",
        "votos_municipio(total)\n",
        "encontrar_ganador(candidato)"
      ]
    }
  ],
  "metadata": {
    "colab": {
      "provenance": []
    },
    "kernelspec": {
      "display_name": "Python 3",
      "language": "python",
      "name": "python3"
    },
    "language_info": {
      "codemirror_mode": {
        "name": "ipython",
        "version": 3
      },
      "file_extension": ".py",
      "mimetype": "text/x-python",
      "name": "python",
      "nbconvert_exporter": "python",
      "pygments_lexer": "ipython3",
      "version": "3.11.3"
    },
    "orig_nbformat": 4
  },
  "nbformat": 4,
  "nbformat_minor": 0
}